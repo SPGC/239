{
 "cells": [
  {
   "cell_type": "markdown",
   "metadata": {},
   "source": [
    "## В целом <br>\n",
    "\n",
    "### Курс живет на https://github.com/rykachevskiy/239/tree/master <br>\n",
    "\n",
    "### Мне можно писать: \n",
    "https://vk.com/rykachevskiy <br>\n",
    "anton.rykachevskiy@yandex.ru <br>\n",
    "\n",
    "*тут будет адрес чатика в телеграм\\вотсап\n",
    "\n",
    "__________________\n"
   ]
  },
  {
   "cell_type": "code",
   "execution_count": null,
   "metadata": {},
   "outputs": [],
   "source": [
    "###  Рекоммендуемый набор \n",
    "\n",
    "Linux (ubuntu, debian, fedora) <br>\n",
    "Anaconda Python >3.4\n"
   ]
  }
 ],
 "metadata": {
  "kernelspec": {
   "display_name": "Python 3",
   "language": "python",
   "name": "python3"
  },
  "language_info": {
   "codemirror_mode": {
    "name": "ipython",
    "version": 3
   },
   "file_extension": ".py",
   "mimetype": "text/x-python",
   "name": "python",
   "nbconvert_exporter": "python",
   "pygments_lexer": "ipython3",
   "version": "3.6.3"
  }
 },
 "nbformat": 4,
 "nbformat_minor": 2
}
