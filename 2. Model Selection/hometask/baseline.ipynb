{
 "cells": [
  {
   "cell_type": "markdown",
   "metadata": {},
   "source": [
    "Задача следующая: <br>\n",
    "В x_train и y_train находится датасет из 3000 примеров. Каждый пример в x_train это набор физических измерений морского ушка(!), по этим измерениям нужно научиться предсказывать возраст этого организма, который указан в y_train. <br>\n",
    "x_train и y_train надо использовать чтобы обучить разные модели и валидировать их. Напоминаю прилизительный арсенал того что нужно использовать\\попробовать:\n",
    "- Выбор модели (LinearRegression, Ridge, Lasso, ElasticNet)\n",
    "- Настройка регуляризации alpha\n",
    "- Дизайн признаков - добавить степени, призведения или что-нибудь еще\n",
    "\n",
    "Потом с помощью самой лучшей модели надо построить предсказания для x_test, сохранить их в файл и отправить мне на почту, с названием файла  surname_test_prediction.npy . <br>\n",
    "У меня есть ответ для этих данных, я посчитаю R-score и на занятии обсудим лучшие решения.\n",
    "\n",
    "Ниже пример для дефолтной линейной регрессии."
   ]
  },
  {
   "cell_type": "code",
   "execution_count": 2,
   "metadata": {},
   "outputs": [],
   "source": [
    "import numpy as np"
   ]
  },
  {
   "cell_type": "code",
   "execution_count": 61,
   "metadata": {},
   "outputs": [],
   "source": [
    "x_train = np.load('./data/x_train.npy')\n",
    "y_train = np.load('./data/y_train.npy')\n",
    "\n",
    "x_test = np.load('./data/x_test.npy')"
   ]
  },
  {
   "cell_type": "code",
   "execution_count": null,
   "metadata": {},
   "outputs": [],
   "source": []
  },
  {
   "cell_type": "code",
   "execution_count": 62,
   "metadata": {},
   "outputs": [],
   "source": [
    "from sklearn.linear_model import LinearRegression"
   ]
  },
  {
   "cell_type": "code",
   "execution_count": 63,
   "metadata": {},
   "outputs": [],
   "source": [
    "lr = LinearRegression()"
   ]
  },
  {
   "cell_type": "code",
   "execution_count": 64,
   "metadata": {},
   "outputs": [
    {
     "data": {
      "text/plain": [
       "LinearRegression(copy_X=True, fit_intercept=True, n_jobs=1, normalize=False)"
      ]
     },
     "execution_count": 64,
     "metadata": {},
     "output_type": "execute_result"
    }
   ],
   "source": [
    "lr.fit(x_train, y_train)"
   ]
  },
  {
   "cell_type": "code",
   "execution_count": 65,
   "metadata": {},
   "outputs": [],
   "source": [
    "y_pred = lr.predict(x_test)"
   ]
  },
  {
   "cell_type": "code",
   "execution_count": 66,
   "metadata": {},
   "outputs": [],
   "source": [
    "np.save(\"./rykachevskiy_test_prediction\", y_pred)"
   ]
  },
  {
   "cell_type": "code",
   "execution_count": null,
   "metadata": {},
   "outputs": [],
   "source": []
  }
 ],
 "metadata": {
  "kernelspec": {
   "display_name": "Python 3",
   "language": "python",
   "name": "python3"
  },
  "language_info": {
   "codemirror_mode": {
    "name": "ipython",
    "version": 3
   },
   "file_extension": ".py",
   "mimetype": "text/x-python",
   "name": "python",
   "nbconvert_exporter": "python",
   "pygments_lexer": "ipython3",
   "version": "3.6.3"
  }
 },
 "nbformat": 4,
 "nbformat_minor": 2
}
